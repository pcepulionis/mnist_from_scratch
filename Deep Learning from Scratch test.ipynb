{
 "cells": [
  {
   "cell_type": "markdown",
   "metadata": {},
   "source": [
    "# Deep Learning from Scratch\n",
    "Hey! I'm glad that you turned on this code and want to check if everything works.<br>\n",
    "Just run all cells and make sure everything works! <br><br>\n",
    "In this piece of code, I give an example of how to load data and create the first model. <br>\n",
    "During PyData, we will try to replicate this entire model using only the NumPy library. <br>\n",
    "This will help you understand what the neural network is and how it works.<br>\n",
    "See you in PyData! <br> <br>\n",
    "\n",
    "if you get an error that you don't have tensorflow, please use the commands in any cell here:<br>\n",
    "```!pip install tensorflow``` or ```!conda install tensorflow``` "
   ]
  },
  {
   "cell_type": "code",
   "execution_count": 1,
   "metadata": {},
   "outputs": [],
   "source": [
    "from tensorflow.keras.activations import sigmoid\n",
    "from tensorflow.keras.models import Sequential\n",
    "from tensorflow.keras.layers import Dense, Flatten\n",
    "from tensorflow.keras.datasets import mnist"
   ]
  },
  {
   "cell_type": "code",
   "execution_count": 2,
   "metadata": {},
   "outputs": [],
   "source": [
    "(x_train, y_train), (x_test, y_test) = mnist.load_data()"
   ]
  },
  {
   "cell_type": "code",
   "execution_count": 3,
   "metadata": {},
   "outputs": [],
   "source": [
    "model = Sequential([\n",
    "    Flatten(input_shape=(28, 28)),\n",
    "    Dense(30, activation=sigmoid)])\n",
    "\n",
    "model.compile(optimizer='adam', \n",
    "              loss='sparse_categorical_crossentropy',\n",
    "              metrics=['accuracy'])"
   ]
  },
  {
   "cell_type": "code",
   "execution_count": 4,
   "metadata": {},
   "outputs": [
    {
     "name": "stdout",
     "output_type": "stream",
     "text": [
      "Epoch 1/10\n",
      "60000/60000 [==============================] - 2s 38us/step - loss: 2.0874 - acc: 0.3229\n",
      "Epoch 2/10\n",
      "60000/60000 [==============================] - 2s 33us/step - loss: 1.4334 - acc: 0.4864\n",
      "Epoch 3/10\n",
      "60000/60000 [==============================] - 2s 33us/step - loss: 1.3089 - acc: 0.6083\n",
      "Epoch 4/10\n",
      "60000/60000 [==============================] - 2s 33us/step - loss: 1.2439 - acc: 0.6561\n",
      "Epoch 5/10\n",
      "60000/60000 [==============================] - 2s 33us/step - loss: 1.2043 - acc: 0.6692\n",
      "Epoch 6/10\n",
      "60000/60000 [==============================] - 2s 33us/step - loss: 1.1416 - acc: 0.6783\n",
      "Epoch 7/10\n",
      "60000/60000 [==============================] - 2s 37us/step - loss: 1.1278 - acc: 0.6759\n",
      "Epoch 8/10\n",
      "60000/60000 [==============================] - 2s 36us/step - loss: 1.1091 - acc: 0.7158\n",
      "Epoch 9/10\n",
      "60000/60000 [==============================] - 2s 37us/step - loss: 1.0740 - acc: 0.7232\n",
      "Epoch 10/10\n",
      "60000/60000 [==============================] - 2s 38us/step - loss: 1.0744 - acc: 0.7637\n"
     ]
    },
    {
     "data": {
      "text/plain": [
       "<tensorflow.python.keras.callbacks.History at 0x1f8e339ceb8>"
      ]
     },
     "execution_count": 4,
     "metadata": {},
     "output_type": "execute_result"
    }
   ],
   "source": [
    "model.fit(x_train, y_train, epochs=10)"
   ]
  },
  {
   "cell_type": "code",
   "execution_count": 5,
   "metadata": {},
   "outputs": [
    {
     "name": "stdout",
     "output_type": "stream",
     "text": [
      "Test loss: 1.0639464596271515\n",
      "Test accuracy: 0.7455\n"
     ]
    }
   ],
   "source": [
    "score = model.evaluate(x_test, y_test, verbose=0)\n",
    "print('Test loss:', score[0])\n",
    "print('Test accuracy:', score[1])"
   ]
  },
  {
   "cell_type": "code",
   "execution_count": null,
   "metadata": {},
   "outputs": [],
   "source": []
  }
 ],
 "metadata": {
  "kernelspec": {
   "display_name": "Python 3",
   "language": "python",
   "name": "python3"
  },
  "language_info": {
   "codemirror_mode": {
    "name": "ipython",
    "version": 3
   },
   "file_extension": ".py",
   "mimetype": "text/x-python",
   "name": "python",
   "nbconvert_exporter": "python",
   "pygments_lexer": "ipython3",
   "version": "3.7.2"
  }
 },
 "nbformat": 4,
 "nbformat_minor": 2
}
